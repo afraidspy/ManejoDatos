{
 "cells": [
  {
   "cell_type": "markdown",
   "metadata": {},
   "source": [
    "# Introducción a Python Aplicado"
   ]
  },
  {
   "cell_type": "markdown",
   "metadata": {},
   "source": [
    "### objetivo"
   ]
  },
  {
   "cell_type": "markdown",
   "metadata": {},
   "source": [
    "Introducir al alumno al lenguaje de programación en Python, uno de los lenguajes con mayor crecimiento en número\n",
    "de usuarios a nivel mundial y famoso por su uso en aplicaciones en Data Science y Machine Learning.\n",
    "El curso no asume experiencia previa a la programación y está enfocado a estudiantes y profesionistas, a fin de\n",
    "facilitar y optimizar las labores del día a día en cada una de sus actividades o profesiones."
   ]
  },
  {
   "cell_type": "markdown",
   "metadata": {},
   "source": [
    "# temario"
   ]
  },
  {
   "cell_type": "markdown",
   "metadata": {},
   "source": [
    "MÓDULO 1:\n",
    "\n",
    "INTRODUCCIÓN A LA PROGRAMACIÓN\n",
    "1. Programación y Aplicaciones\n",
    "2. Lenguajes\n",
    "3. ¿Por qué Python?\n",
    "\n",
    "MÓDULO 2:\n",
    "\n",
    "OBJETOS DENTRO DE PYTHON\n",
    "1. Cadenas, Flotantes y Enteros\n",
    "2. Variables\n",
    "3. Listas y Tuplas\n",
    "4. Diccionarios y Conjuntos\n",
    "\n",
    "MÓDULO 3:\n",
    "\n",
    "INSTRUCCIONES DE CONTROL\n",
    "1. Booleanos\n",
    "2. Condicionales\n",
    "\n",
    "MÓDULO 4:\n",
    "\n",
    "CICLOS\n",
    "1. For\n",
    "2. while\n",
    "\n",
    "MÓDULO 5:\n",
    "\n",
    "FUNCIONES\n",
    "1. Motivación\n",
    "2. Parámetros\n",
    "3. Regresando valores\n",
    "\n",
    "MÓDULO 6:\n",
    "LIBRERÍA ESTÁNDAR\n",
    "\n",
    "1. datetime\n",
    "2. collections\n",
    "3. os\n",
    "\n",
    "MÓDULO 7:\n",
    "\n",
    "PROGRAMACIÓN ORIENTADA A OBJETOS (OOP)\n",
    "1. La programación OOP\n",
    "2. Creando una clase\n",
    "3. Inheritance\n",
    "\n",
    "MÓDULO 8:\n",
    "\n",
    "PROGRAMACIÓN FUNCIONAL\n",
    "1. List comprehensions\n",
    "2. Funciones Lambda\n",
    "3. Análisis de Predicados\n",
    "MÓDULO 9:\n",
    "\n",
    "EXCEPCIONES\n",
    "\n",
    "1. Tipos de excepciones\n",
    "2. Trabajando con excepciones\n",
    "2.1. Try\n",
    "2.2. except\n",
    "\n",
    "MÓDULO 10:\n",
    "\n",
    "DEBUGGING AND PROFILING\n",
    "\n",
    "1. IPython Magics\n",
    "1.1. debugging con pdb\n",
    "1.2. Line profiling y optimización\n",
    "\n",
    "MÓDULO 11:\n",
    "\n",
    "PACKAGES AND VIRTUAL ENVIRONMENTS\n",
    "\n",
    "1. pip v.s. conda\n",
    "1.1. Installing and updating packages\n",
    "2. Uses of Virtual Environments"
   ]
  },
  {
   "cell_type": "markdown",
   "metadata": {},
   "source": [
    "\n",
    "[esto es un link](https://www.google.com.mx/?hl=es-419)"
   ]
  },
  {
   "cell_type": "markdown",
   "metadata": {},
   "source": [
    "# Introduccion "
   ]
  },
  {
   "cell_type": "markdown",
   "metadata": {},
   "source": [
    "### <font color='red'>Trabajando con el notebook </font>"
   ]
  },
  {
   "cell_type": "code",
   "execution_count": 1,
   "metadata": {
    "scrolled": true
   },
   "outputs": [
    {
     "data": {
      "text/plain": [
       "'\\n    Este es un comentario largo y termina hasta que cierran las comillas.\\n    Se puede escribir y dar saltos de linea y python no lo \\n    reconoce como código.\\n    Estos comentarios aparecen en la salida de nuestro código\\n'"
      ]
     },
     "execution_count": 1,
     "metadata": {},
     "output_type": "execute_result"
    }
   ],
   "source": [
    "# Esto es un comentario (No aparece en la ejecuci+on de los códigos)\n",
    "\n",
    "\"\"\"\n",
    "    Este es un comentario largo y termina hasta que cierran las comillas.\n",
    "    Se puede escribir y dar saltos de linea y python no lo \n",
    "    reconoce como código.\n",
    "    Estos comentarios aparecen en la salida de nuestro código\n",
    "\"\"\""
   ]
  },
  {
   "cell_type": "markdown",
   "metadata": {},
   "source": [
    "En python podemos crear títulos iniciando la linea con el simbolo \"#\" \n",
    "y mientras mas \"#\" tenga un título es de menor jerarquía:\n",
    "    \n",
    "# Título 1\n",
    "## Título 2\n",
    "### Título 3\n",
    "#### Título 4  "
   ]
  },
  {
   "cell_type": "markdown",
   "metadata": {},
   "source": [
    "Este  texto no tiene formato    \n",
    "*Este texto es cursiva*   \n",
    "**Este texto está en negritas**    \n",
    "***Este texto es cursiva y negrita***  "
   ]
  },
  {
   "cell_type": "markdown",
   "metadata": {},
   "source": [
    "# Numerado\n",
    "\n",
    "* Indice 1\n",
    "    1. Subindice 1.1\n",
    "    2. Subindice 1.2\n",
    "    3. Subindice 1.3\n",
    "\n",
    "\n",
    "* Indice 2\n",
    "    - Subindice 2.1\n",
    "    - Subindice 2.2\n",
    "    - Subindice 2.3 "
   ]
  },
  {
   "cell_type": "markdown",
   "metadata": {},
   "source": [
    "# Fórmulas de Latex \n",
    "Con el símbolo $ le indicamos a python que vamos a escribir fórmulas: \n",
    "    \n",
    "Esta es una fórmula:  \n",
    "$ a+b=c $\n",
    "\n",
    "Sub índices:  \n",
    "$x_i + y_i=z$  \n",
    "\n",
    "Super índices:  \n",
    "$ x^i + y^i=z $  \n",
    "\n",
    "Las llaves indican que el sub o super índice se aplica al texto contenido en ellas:  \n",
    "$e^{x+y-z} + w $  \n",
    "$e_{x+y-z} + w $\n",
    "\n",
    "Matríz:  \n",
    "$\\left[\n",
    "   \\begin{matrix}\n",
    "   a & b & c \\\\\n",
    "   d & e & f \\\\\n",
    "   g & h & i \\end{matrix}\n",
    "  \\right]$\n",
    "  \n",
    "Esto genera texto con link adjunto \n",
    "[Esto es un link](https://www.google.com.mx/?hl=es-419)\n",
    "#[Texto](Direccion web)"
   ]
  },
  {
   "cell_type": "markdown",
   "metadata": {},
   "source": [
    "### <font color='red'>Entorno: Variables</font>"
   ]
  },
  {
   "cell_type": "code",
   "execution_count": 2,
   "metadata": {},
   "outputs": [
    {
     "name": "stdout",
     "output_type": "stream",
     "text": [
      "5\n",
      "Esto es un texto\n"
     ]
    }
   ],
   "source": [
    "# Para declarar una variable en python basta con darle algún valor\n",
    "numero = 5\n",
    "texto = 'Esto es un texto'\n",
    "texto2 = \"Esto es un texto\"\n",
    "# Imprimimos los valores de las variables \"numero\" y \"texto\"\n",
    "print(numero)\n",
    "print(texto)"
   ]
  },
  {
   "cell_type": "code",
   "execution_count": 3,
   "metadata": {},
   "outputs": [
    {
     "name": "stdout",
     "output_type": "stream",
     "text": [
      "5\n",
      "10.345\n",
      "FORMA1 ########\n",
      "La variable x tiene el valor: 5\n",
      "Tipo de dato de la variable x: <class 'int'>\n",
      "Tipo de dato de la variable y: <class 'float'>\n",
      "La variable x tiene el valor:  5\n",
      "FORMA2 ########\n",
      "La variable x tiene el valor: 5\n",
      "Tipo de dato de la variable x: <class 'int'>\n",
      "Tipo de dato de la variable y: <class 'float'>\n",
      "La variable x tiene el valor:  5\n"
     ]
    }
   ],
   "source": [
    "# Hay dos tipos de variables numéricas: enteros (int) y reales (float)\n",
    "x = 5\n",
    "y= 10.345\n",
    "\n",
    "print(x)\n",
    "print(y)\n",
    "\n",
    "### Print ####\n",
    "#1\n",
    "\n",
    "# Para agregar variables dentro del texto de un comando print usamos \"{}\" \n",
    "# en la posición donde queremos que aparezca la variable y terminando el texto \n",
    "# agregamos la función \".format(variable)\"\n",
    "\n",
    "# type(objeto) Indica el tipo de objeto es\n",
    "print(\"FORMA1 ########\")\n",
    "print('La variable x tiene el valor: {}'.format( x )) # Aquí mi variable es x\n",
    "print('Tipo de dato de la variable x: {}'.format( type(x) )) # Aquí mi variable es type(x)\n",
    "print('Tipo de dato de la variable y: {}'.format( type(y) )) # Aquí mi variable es type(y)\n",
    "print('La variable x tiene el valor: ',  x)\n",
    "\n",
    "#2\n",
    "\n",
    "# Para agregar variables dentro del texto de un comando print usamos notacion f\n",
    "# en ella ingresamos antes de nuestra cadena la letra f : f\"cadena\"\n",
    "# seguido de esto especificamos en {} las variables que necesitemos : f\"cadena {variable 1 } mas texto { variable 2}\" \n",
    "\n",
    "print(\"FORMA2 ########\")\n",
    "print(f'La variable x tiene el valor: {x}') # Aquí mi variable es x\n",
    "print(f'Tipo de dato de la variable x: { type(x)}') # Aquí mi variable es type(x)\n",
    "print(f'Tipo de dato de la variable y: { type(y)}') # Aquí mi variable es type(y)\n",
    "print(f'La variable x tiene el valor: ',  x)"
   ]
  },
  {
   "cell_type": "code",
   "execution_count": 4,
   "metadata": {},
   "outputs": [
    {
     "name": "stdout",
     "output_type": "stream",
     "text": [
      "Suma: 15.345\n",
      "Resta: -5.345000000000001\n",
      "Multiplicación: 51.725\n",
      "División: 0.4833252779120348\n"
     ]
    }
   ],
   "source": [
    "## Operaciones con variables numéricas\n",
    "z1= x + y\n",
    "z2= x - y\n",
    "z3= x*y\n",
    "z4= x/y\n",
    "\n",
    "# \"\\n\"  Salto de linea\n",
    "print('Suma: {}\\nResta: {}\\nMultiplicación: {}\\nDivisión: {}'.format(z1, z2, z3, z4))"
   ]
  },
  {
   "cell_type": "code",
   "execution_count": 5,
   "metadata": {},
   "outputs": [
    {
     "name": "stdout",
     "output_type": "stream",
     "text": [
      "2\n",
      "1\n",
      "125\n",
      "1.7099759466766968\n"
     ]
    },
    {
     "data": {
      "text/plain": [
       "10.35"
      ]
     },
     "execution_count": 5,
     "metadata": {},
     "output_type": "execute_result"
    }
   ],
   "source": [
    "## Mas Operaciones\n",
    "print(  x//2  )        # Cociente\n",
    "print(  x%2  )         # Resto\n",
    "print(  pow(x,3)  )    # Potencia forma1\n",
    "print(  x ** 3 )        # Potencia forma2\n",
    "print(  pow(x, 1/3)  )  # Raíz\n",
    "round(y, 2)            # Redondear(variable, número_de_decimales)"
   ]
  },
  {
   "cell_type": "code",
   "execution_count": 6,
   "metadata": {},
   "outputs": [
    {
     "name": "stdout",
     "output_type": "stream",
     "text": [
      "Tipos de dato x: <class 'bool'> \n",
      "Tipo de dato y: <class 'bool'>\n",
      "x: True \n",
      "y: False \n",
      "No_x: False \n",
      "No_y: True\n"
     ]
    }
   ],
   "source": [
    "x = True    # 1\n",
    "y = False   # 0\n",
    "\n",
    "xneg= not x\n",
    "yneg= not y\n",
    "\n",
    "print('Tipos de dato x: {} \\nTipo de dato y: {}'.format(  type(x), type(y)  ))\n",
    "print('x: {} \\ny: {} \\nNo_x: {} \\nNo_y: {}'.format(x, y, xneg, yneg))"
   ]
  },
  {
   "cell_type": "code",
   "execution_count": null,
   "metadata": {},
   "outputs": [],
   "source": [
    "# Operaciones booleanas\n",
    "\n",
    "# \"and\"  Pide que se cumplan todas las condiciones para devolver TRUE\n",
    "# \"or\"   Pide que se cumpla alguna de las condiciones para devolver TRUE\n",
    "print(x and y)\n",
    "print(x or y)"
   ]
  },
  {
   "cell_type": "code",
   "execution_count": 7,
   "metadata": {},
   "outputs": [
    {
     "name": "stdout",
     "output_type": "stream",
     "text": [
      "True\n",
      "False\n",
      "False\n",
      "True\n"
     ]
    }
   ],
   "source": [
    "x= 10>1       # También podemos usar \">=\"\n",
    "print(x)\n",
    "\n",
    "y= 10<1       # También podemos usar \"<=\"\n",
    "print(y)\n",
    "\n",
    "# =  Asignación\n",
    "# ==  Comparación de igualdad\n",
    "z= 10==1      # Preguntar si dos variables son iguales\n",
    "print(z)\n",
    "\n",
    "# ==  Comparación de diferencia\n",
    "w= 10!=1      # Preguntar si dos variables son diferentes\n",
    "print(w)"
   ]
  },
  {
   "cell_type": "code",
   "execution_count": 8,
   "metadata": {},
   "outputs": [
    {
     "name": "stdout",
     "output_type": "stream",
     "text": [
      "Tipo de dato de la variable x: <class 'str'> y tiene el valor Hola\n",
      "Tipo de dato de la variable y: <class 'str'>\n"
     ]
    }
   ],
   "source": [
    "# variables strings\n",
    "x = 'Hola'     # Asignamos a la variable x el texto 'Hola'\n",
    "y = 'Mundo'    # Asignamos a la variable y el texto 'Mundo'\n",
    "\n",
    "print('Tipo de dato de la variable x: {} y tiene el valor {}'.format( type(x), x ))\n",
    "print('Tipo de dato de la variable y: {}'.format( type(y) ))"
   ]
  },
  {
   "cell_type": "code",
   "execution_count": 9,
   "metadata": {},
   "outputs": [
    {
     "name": "stdout",
     "output_type": "stream",
     "text": [
      "Hola mundo\n",
      "Hola Mundo\n"
     ]
    }
   ],
   "source": [
    "#operaciones con variables strings\n",
    "\n",
    "# 'int', 'float', 'str', 'bool'\n",
    "# Las variables de texto se concatenan con el simbolo +\n",
    "\n",
    "saludo= 'Hola' + ' ' + 'mundo'\n",
    "print(saludo)\n",
    "\n",
    "saludo= x + ' ' + y\n",
    "print(saludo)\n"
   ]
  },
  {
   "cell_type": "code",
   "execution_count": 10,
   "metadata": {},
   "outputs": [
    {
     "name": "stdout",
     "output_type": "stream",
     "text": [
      "Longitud de x: 4\n",
      "Longitud de y: 5\n"
     ]
    }
   ],
   "source": [
    "# Longitud de una variable de texto: len(variable)\n",
    "longitud_x = len(x)\n",
    "longitud_y = len(y)\n",
    "\n",
    "print('Longitud de x: {}\\nLongitud de y: {}'.format(  longitud_x, longitud_y  ))"
   ]
  },
  {
   "cell_type": "code",
   "execution_count": null,
   "metadata": {},
   "outputs": [],
   "source": [
    "# Subtexto de una cadena\n",
    "\n",
    "# En python las listas y texto comienzan en la posición 0, una variable de texto es \n",
    "# como una lista de símbolos por lo que:\n",
    "\n",
    "#  \"H-o-l-a- -M-u-n-d-o\"\n",
    "#   0-1-2-3-4-5-6-7-8-9\n",
    "\n",
    "# cadena= 'Hola Mundo'\n",
    "# Se extrae una subcadena usando \"cadena[]\" y la posición del subtexto:\n",
    "# - cadena[j] Extraer la posición j de la cadena\n",
    "# - cadena[j:l] Extraer el texto desde la posición j hasta la posición l-1\n",
    "# - cadena[j:l+1] Extraer el texto desde la posición j hasta la posición l"
   ]
  },
  {
   "cell_type": "code",
   "execution_count": 11,
   "metadata": {},
   "outputs": [
    {
     "name": "stdout",
     "output_type": "stream",
     "text": [
      "Hola\n",
      "Mundo\n"
     ]
    }
   ],
   "source": [
    "a= 0\n",
    "b= 4\n",
    "var1= saludo[a:b] # Extrae el texto desde la posición  hasta \n",
    "c= 5\n",
    "d= 10\n",
    "var2= saludo[c:d] # Extrae el texto desde la posición  - \n",
    "print(var1)\n",
    "print(var2)"
   ]
  },
  {
   "cell_type": "code",
   "execution_count": 12,
   "metadata": {},
   "outputs": [
    {
     "name": "stdout",
     "output_type": "stream",
     "text": [
      "La palabra sesión comienza en la posición: 18\n",
      "sesión\n"
     ]
    }
   ],
   "source": [
    "## Buscar una subcadena\n",
    "texto= 'Este es mi primer sesión de python cientifico'\n",
    "\n",
    "# Encontrar y extraer la palabra mañana\n",
    "## La función \"find\" me indica la posición donde inicia un subtexto\n",
    "busqueda= 'sesión'\n",
    "inicio= texto.find(busqueda)\n",
    "print('La palabra sesión comienza en la posición: {}'.format(  inicio  ))\n",
    "\n",
    "extraccion= texto[inicio: inicio+len(busqueda)]\n",
    "print(extraccion)"
   ]
  },
  {
   "cell_type": "code",
   "execution_count": 17,
   "metadata": {},
   "outputs": [
    {
     "name": "stdout",
     "output_type": "stream",
     "text": [
      "Resultado de buscar la palabra Python -1\n"
     ]
    }
   ],
   "source": [
    "# Cuando la palabra buscada no se encuentra dentro del texto la función \"find\" regresa\n",
    "#  el valor -1\n",
    "print( f'Resultado de buscar la palabra Python {texto.find(\"Python\")}')"
   ]
  },
  {
   "cell_type": "code",
   "execution_count": null,
   "metadata": {},
   "outputs": [],
   "source": [
    "## Reemplazar texto:  texto.replace('texto_a_reemplazar', 'texto_que_reemplaza')\n",
    "var= 'una mosca parada en la pared'\n",
    "print(var)\n",
    "\n",
    "var2= var.replace('a','e')\n",
    "print(var2)"
   ]
  },
  {
   "cell_type": "code",
   "execution_count": 19,
   "metadata": {},
   "outputs": [
    {
     "name": "stdout",
     "output_type": "stream",
     "text": [
      "<class 'str'>\n",
      "<class 'int'>\n",
      "------------------------------------\n",
      "<class 'int'>\n",
      "<class 'str'>\n",
      "------------------------------------\n",
      "<class 'int'>\n",
      "<class 'float'>\n",
      "------------------------------------\n",
      "<class 'float'>\n",
      "<class 'int'>\n",
      "3\n"
     ]
    }
   ],
   "source": [
    "##### Conversiones de datos\n",
    "\n",
    "# 'int', 'float', 'str', 'bool'\n",
    "# Conversión de texto a número\n",
    "text= '3'\n",
    "num= int(text)\n",
    "print(type(text)); print(type(num))\n",
    "print('------------------------------------')\n",
    "\n",
    "# Conversión de número a texto\n",
    "num2= 100\n",
    "text2= str(num2)\n",
    "print(type(num2)); print(type(text2))\n",
    "print('------------------------------------')\n",
    "\n",
    "# Conversión de número entero a número float\n",
    "num3= 100\n",
    "flo= float(num3)\n",
    "print(type(num3)); print(type(flo))\n",
    "print('------------------------------------')\n",
    "\n",
    "# Conversión de número float a número entero\n",
    "num4= 3.1415\n",
    "entero= int(num4)\n",
    "print(type(num4)); print(type(entero)); print(entero)"
   ]
  },
  {
   "cell_type": "markdown",
   "metadata": {},
   "source": [
    "### <font color='red'>Estructuras de datos: Listas</font>"
   ]
  },
  {
   "cell_type": "code",
   "execution_count": 20,
   "metadata": {},
   "outputs": [
    {
     "data": {
      "text/plain": [
       "[1, 10, 2, 9, 3, 8, 4, 7, 5, 6]"
      ]
     },
     "execution_count": 20,
     "metadata": {},
     "output_type": "execute_result"
    }
   ],
   "source": [
    "# Las listas son una estructura de datos ( cualquier tipo de dato)\n",
    "# Para declarar una lista se usan corchetes \"[elemento_1, elemento_2,...,elemento_n]\", ejemplo:\n",
    "l1= [1, 10, 2, 9, 3, 8, 4, 7, 5, 6]\n"
   ]
  },
  {
   "cell_type": "code",
   "execution_count": 21,
   "metadata": {},
   "outputs": [
    {
     "name": "stdout",
     "output_type": "stream",
     "text": [
      "[1, 'python', False]\n"
     ]
    }
   ],
   "source": [
    "l2= [1, 'python', False]\n",
    "print(l2)"
   ]
  },
  {
   "cell_type": "code",
   "execution_count": 22,
   "metadata": {},
   "outputs": [
    {
     "data": {
      "text/plain": [
       "[4, 7, 5, 6]"
      ]
     },
     "execution_count": 22,
     "metadata": {},
     "output_type": "execute_result"
    }
   ],
   "source": [
    "# Extraer elementos de una lista, es similar a extraer subcadenas de un texto:\n",
    "l1[6:10]"
   ]
  },
  {
   "cell_type": "code",
   "execution_count": 23,
   "metadata": {},
   "outputs": [
    {
     "name": "stdout",
     "output_type": "stream",
     "text": [
      "1\n",
      "<class 'int'>\n",
      "[1, 10, 2]\n",
      "<class 'list'>\n",
      "[8, 4]\n",
      "[8, 4, 7, 5, 6]\n",
      "[1, 10]\n"
     ]
    }
   ],
   "source": [
    "## Acceder a los elementos de una lista\n",
    "\n",
    "#   -10  -9  -8   -7    -6   -5   -4   -3   -2    -1\n",
    "l1= [1,   10,   2,   9,   3,   8,   4,   7,   5,   6]\n",
    "     \n",
    "print( l1[0] )           # Primer elemento de la lista\n",
    "print( type(l1[0]) )\n",
    "\n",
    "print( l1[0:3]  )        # Primeros tres elementos de la lista\n",
    "print(  type( l1[0:3] ) )  # Tipo de objeto  l1[0:3]\n",
    "print(  l1[-5:-3]  )     # Extrae los elementos -5 hasta -4\n",
    "\n",
    "print(  l1[-5: ]  )       # l1[-5:] Extrae desde el elemento -5 hasta el final de la lista\n",
    "print(  l1[ :2]   )       # l1[:2] Extrae desde el elemento 0 hasta el 1"
   ]
  },
  {
   "cell_type": "code",
   "execution_count": 24,
   "metadata": {},
   "outputs": [
    {
     "name": "stdout",
     "output_type": "stream",
     "text": [
      "La lista l1 tiene 10 elementos\n"
     ]
    }
   ],
   "source": [
    "## Longitud de una lista: len(lista)\n",
    "print(\"La lista l1 tiene {} elementos\".format(  len(l1)  ))"
   ]
  },
  {
   "cell_type": "code",
   "execution_count": 25,
   "metadata": {},
   "outputs": [
    {
     "name": "stdout",
     "output_type": "stream",
     "text": [
      "[1, 10, 2, 9, 3, 8, 4, 7, 5, 6]\n",
      "[1, 10, 2, 9, 3, 8, 4, 7, 5, 'Hola']\n"
     ]
    }
   ],
   "source": [
    "## Modificar elementos:  lista[num_elemento]= nuevo_valor\n",
    "print(l1)\n",
    "l1[9]= \"Hola\"\n",
    "print(l1)"
   ]
  },
  {
   "cell_type": "code",
   "execution_count": 26,
   "metadata": {},
   "outputs": [
    {
     "name": "stdout",
     "output_type": "stream",
     "text": [
      "[1, 10, 2, 9, 3, 8, 4, 7, 5, 'Hola']\n",
      "[1, 10, 2, 9, 3, 8, 4, 7, 5, 'Hola', True]\n"
     ]
    }
   ],
   "source": [
    "## Agregar elementos al final de una lista:  lista.append(nuevo_elemento)\n",
    "print(l1)\n",
    "l1.append(True)\n",
    "print(l1)"
   ]
  },
  {
   "cell_type": "code",
   "execution_count": 27,
   "metadata": {},
   "outputs": [
    {
     "name": "stdout",
     "output_type": "stream",
     "text": [
      "[1, 10, 2, 9, 3, 8, 4, 7, 5, 'Hola', True]\n",
      "[1, 1.5, 10, 2, 9, 3, 8, 4, 7, 5, 'Hola', True]\n"
     ]
    }
   ],
   "source": [
    "## Agregar elementos en un punto medio de la lista: lista.insert(posición, valor)\n",
    "print(l1)\n",
    "l1.insert(1, 1.5)  # insert(Posición, valor)\n",
    "print(l1)"
   ]
  },
  {
   "cell_type": "code",
   "execution_count": 28,
   "metadata": {},
   "outputs": [
    {
     "name": "stdout",
     "output_type": "stream",
     "text": [
      "[1, 1.5, 10, 2, 9, 3, 8, 4, 7, 5, 'Hola', True]\n",
      "[1, 1.5, 10, 2, 9, 3, 8, 4, 7, 5, True]\n"
     ]
    }
   ],
   "source": [
    "## Eliminar elementos de una lista cuando sabemos que valor queremos quitar:\n",
    "## lista.remove(valor_a_quitar)\n",
    "print(l1)\n",
    "l1.remove('Hola')  # Cuando el valor está repetido remove solo quita la primer aparición\n",
    "print(l1)"
   ]
  },
  {
   "cell_type": "code",
   "execution_count": 29,
   "metadata": {},
   "outputs": [
    {
     "name": "stdout",
     "output_type": "stream",
     "text": [
      "[1, 1.5, 10, 2, 9, 3, 8, 4, 7, 5, True]\n",
      "[1.5, 10, 2, 9, 3, 8, 4, 7, 5, True]\n"
     ]
    }
   ],
   "source": [
    "##  Eliminar elementos de una lista a partir del índice:  \n",
    "print(l1)\n",
    "l1.pop(0)\n",
    "print(l1)\n",
    "# Si no se especifica el índice, borra el último dato"
   ]
  },
  {
   "cell_type": "code",
   "execution_count": 30,
   "metadata": {},
   "outputs": [
    {
     "name": "stdout",
     "output_type": "stream",
     "text": [
      "True\n",
      "False\n"
     ]
    }
   ],
   "source": [
    "## Buscar un elemento dentro de una lista\n",
    "print(2 in l1)           # Booleano True\n",
    "print('python' in l1)    # Booleano False"
   ]
  },
  {
   "cell_type": "code",
   "execution_count": 31,
   "metadata": {},
   "outputs": [
    {
     "name": "stdout",
     "output_type": "stream",
     "text": [
      "[1.5, 10, 2, 9, 3, 8, 4, 7, 5, True]\n",
      "[True, 1.5, 2, 3, 4, 5, 7, 8, 9, 10]\n",
      "[1.5, 10, 2, 9, 3, 8, 4, 7, 5, True]\n"
     ]
    }
   ],
   "source": [
    "## Ordenar una lista (Si tiene elementos string esta función genera un error)\n",
    "print(l1)\n",
    "print( sorted(l1) )  # La funcion sorted Genera una lista nueva (no modifica la original)\n",
    "print(l1)            # No guarda el orden de sorted"
   ]
  },
  {
   "cell_type": "code",
   "execution_count": 32,
   "metadata": {},
   "outputs": [
    {
     "name": "stdout",
     "output_type": "stream",
     "text": [
      "[True, 1.5, 2, 3, 4, 5, 7, 8, 9, 10]\n"
     ]
    }
   ],
   "source": [
    "## Para ordenar la lista original usamos:  lista.sort()\n",
    "l1.sort()\n",
    "print(l1)"
   ]
  },
  {
   "cell_type": "code",
   "execution_count": 33,
   "metadata": {},
   "outputs": [
    {
     "name": "stdout",
     "output_type": "stream",
     "text": [
      "[10, 9, 8, 7, 5, 4, 3, 2, 1.5, True]\n",
      "[10, 9, 8, 7, 5, 4, 3, 2, 1.5, True]\n"
     ]
    }
   ],
   "source": [
    "## Orden descendente\n",
    "print(   sorted( l1, reverse=True ))\n",
    "l1.sort(reverse=True)\n",
    "print(   l1    )"
   ]
  },
  {
   "cell_type": "code",
   "execution_count": 34,
   "metadata": {},
   "outputs": [
    {
     "name": "stdout",
     "output_type": "stream",
     "text": [
      "[10, 9, 8, 7, 5, 4, 3, 2, 1.5, True]\n",
      "El elemento 7 se encuentra en la posición 3\n",
      "0\n",
      "10\n"
     ]
    }
   ],
   "source": [
    "## Encontrar posición de un elemento de la lista: \n",
    "##  lista.index(valor, posición_de_inicio_de_busqueda)\n",
    "print(l1)\n",
    "print('El elemento 7 se encuentra en la posición {}'.format(  l1.index(7)  ))\n",
    "\n",
    "# Agregamos un elemento repetido a la lista l1   (10) \n",
    "l1.append(10)\n",
    "\n",
    "## Buscamos la primer aparición de \"10\" en la lista\n",
    "print(  l1.index(10)  )\n",
    "\n",
    "## Buscamos la segunda aparición de 10 en la lista\n",
    "prim= l1.index(10)\n",
    "print(  l1.index(10, prim+1)  )"
   ]
  },
  {
   "cell_type": "code",
   "execution_count": 35,
   "metadata": {},
   "outputs": [
    {
     "name": "stdout",
     "output_type": "stream",
     "text": [
      "[3, 5, 2, 3, 6, 9, 7, 4, 7, 9]\n",
      "[3, 5, 2, 3, 6, 9, 7, 4, 7, 9]\n",
      "[5, 2, 3, 6, 9, 7, 4, 7, 9]\n",
      "[5, 2, 3, 6, 9, 7, 4, 7, 9]\n"
     ]
    }
   ],
   "source": [
    "## Copia espejo\n",
    "a= [3,5,2,3,6,9,7,4,7,9]\n",
    "b = a\n",
    "\n",
    "print(a); print(b)\n",
    "\n",
    "b.remove(3)\n",
    "print(a); print(b)\n",
    "# Notemos que los cambios que hacemos en \"b\" también afectan a \"a\""
   ]
  },
  {
   "cell_type": "code",
   "execution_count": 36,
   "metadata": {},
   "outputs": [
    {
     "name": "stdout",
     "output_type": "stream",
     "text": [
      "[3, 5, 2, 3, 6, 9, 7, 4, 7, 9]\n",
      "[3, 5, 2, 3, 6, 9, 7, 4, 7, 9]\n",
      "[3, 5, 2, 3, 6, 9, 7, 4, 7, 9]\n",
      "[3, 2, 3, 6, 9, 7, 4, 7, 9]\n"
     ]
    }
   ],
   "source": [
    "# Copia independiente\n",
    "a= [3,5,2,3,6,9,7,4,7,9]\n",
    "b = a.copy()\n",
    "print(a); print(b)\n",
    "b.remove(5)\n",
    "print(a); print(b)\n",
    "# Aquí \"b\" es una lista independiente y los cambios que se le hacen no afectan a \"a\""
   ]
  },
  {
   "cell_type": "markdown",
   "metadata": {},
   "source": [
    "### <font color='red'>Estructuras de datos: Tuplas</font>"
   ]
  },
  {
   "cell_type": "markdown",
   "metadata": {},
   "source": [
    "Si te quedó claro el concepto de listas, las tuplas te van a ser estructuras tiviales, ya que son muy similares salvo por dos diferencias muy importantes:\n",
    "\n",
    "Las tuplas son inmutables. Una vez se crea una tupla, no se puede cambiar ni su contenido ni su tamaño, a menos que hagas una copia de la tupla.\n",
    "\n",
    "Las tuplas consisten en un conjunto de objetos ordenados que pueden ser de cualquier tipo (es decir, strings, listas, diccionarios, tuplas, etc.), y se puede acceder a cada elemento mediante un índice, al contrario que los elementos de un diccionarios, a los cuales se accedía mediante una clave. \n",
    "\n",
    "Se escriben entre paréntesis () en lugar de entre corchetes []."
   ]
  },
  {
   "cell_type": "code",
   "execution_count": null,
   "metadata": {},
   "outputs": [],
   "source": [
    "#Esto es una tupla simple que solo contiene un elemento, un valor entero. La salida de esta tupla será 10\n",
    "tup = (10)"
   ]
  },
  {
   "cell_type": "code",
   "execution_count": 1,
   "metadata": {},
   "outputs": [],
   "source": [
    "tup = (31,'prog',4.0)"
   ]
  },
  {
   "cell_type": "code",
   "execution_count": 2,
   "metadata": {},
   "outputs": [],
   "source": [
    "tup = 31,'prog',4.0"
   ]
  },
  {
   "cell_type": "markdown",
   "metadata": {},
   "source": [
    "### operaciones"
   ]
  },
  {
   "cell_type": "code",
   "execution_count": null,
   "metadata": {},
   "outputs": [],
   "source": [
    "#conatenar"
   ]
  },
  {
   "cell_type": "code",
   "execution_count": 3,
   "metadata": {},
   "outputs": [],
   "source": [
    "tuple1 = (1,2,3,4,5)\n",
    "\n",
    "tuple2 = (6,7,8,9,10)"
   ]
  },
  {
   "cell_type": "code",
   "execution_count": 4,
   "metadata": {},
   "outputs": [
    {
     "data": {
      "text/plain": [
       "(1, 2, 3, 4, 5, 6, 7, 8, 9, 10)"
      ]
     },
     "execution_count": 4,
     "metadata": {},
     "output_type": "execute_result"
    }
   ],
   "source": [
    "tup = tuple1 + tuple2\n",
    "tup"
   ]
  },
  {
   "cell_type": "code",
   "execution_count": 5,
   "metadata": {},
   "outputs": [
    {
     "data": {
      "text/plain": [
       "(1, 2, 3, 4, 5, 1, 2, 3, 4, 5, 1, 2, 3, 4, 5)"
      ]
     },
     "execution_count": 5,
     "metadata": {},
     "output_type": "execute_result"
    }
   ],
   "source": [
    "#repetir\n",
    "tuple1 * 3"
   ]
  },
  {
   "cell_type": "code",
   "execution_count": 6,
   "metadata": {},
   "outputs": [
    {
     "data": {
      "text/plain": [
       "True"
      ]
     },
     "execution_count": 6,
     "metadata": {},
     "output_type": "execute_result"
    }
   ],
   "source": [
    "#comprobar elementos\n",
    "3 in tuple1 "
   ]
  },
  {
   "cell_type": "code",
   "execution_count": 7,
   "metadata": {},
   "outputs": [
    {
     "data": {
      "text/plain": [
       "4"
      ]
     },
     "execution_count": 7,
     "metadata": {},
     "output_type": "execute_result"
    }
   ],
   "source": [
    "#buscar elementos\n",
    "tuple1.index(5)"
   ]
  },
  {
   "cell_type": "markdown",
   "metadata": {},
   "source": [
    "### indexaciones "
   ]
  },
  {
   "cell_type": "code",
   "execution_count": 8,
   "metadata": {},
   "outputs": [
    {
     "data": {
      "text/plain": [
       "5"
      ]
     },
     "execution_count": 8,
     "metadata": {},
     "output_type": "execute_result"
    }
   ],
   "source": [
    "tuple1[4]"
   ]
  },
  {
   "cell_type": "code",
   "execution_count": 9,
   "metadata": {},
   "outputs": [
    {
     "data": {
      "text/plain": [
       "(1, 2)"
      ]
     },
     "execution_count": 9,
     "metadata": {},
     "output_type": "execute_result"
    }
   ],
   "source": [
    "tuple1[0:2]"
   ]
  },
  {
   "cell_type": "code",
   "execution_count": 10,
   "metadata": {},
   "outputs": [
    {
     "data": {
      "text/plain": [
       "(1, 3, 5)"
      ]
     },
     "execution_count": 10,
     "metadata": {},
     "output_type": "execute_result"
    }
   ],
   "source": [
    "tuple1[::2]"
   ]
  },
  {
   "cell_type": "code",
   "execution_count": 11,
   "metadata": {},
   "outputs": [
    {
     "data": {
      "text/plain": [
       "(5, 4, 3, 2, 1)"
      ]
     },
     "execution_count": 11,
     "metadata": {},
     "output_type": "execute_result"
    }
   ],
   "source": [
    "tuple1[::-1]"
   ]
  },
  {
   "cell_type": "code",
   "execution_count": 12,
   "metadata": {},
   "outputs": [
    {
     "name": "stdout",
     "output_type": "stream",
     "text": [
      "1\n",
      "2\n",
      "3\n",
      "4\n",
      "5\n"
     ]
    }
   ],
   "source": [
    "for i in tuple1:\n",
    "    print(i)"
   ]
  },
  {
   "cell_type": "markdown",
   "metadata": {},
   "source": [
    "### inmutabilidad"
   ]
  },
  {
   "cell_type": "code",
   "execution_count": 14,
   "metadata": {},
   "outputs": [
    {
     "ename": "TypeError",
     "evalue": "'tuple' object does not support item assignment",
     "output_type": "error",
     "traceback": [
      "\u001b[1;31m---------------------------------------------------------------------------\u001b[0m",
      "\u001b[1;31mTypeError\u001b[0m                                 Traceback (most recent call last)",
      "\u001b[1;32m<ipython-input-14-c4be70ce3261>\u001b[0m in \u001b[0;36m<module>\u001b[1;34m\u001b[0m\n\u001b[1;32m----> 1\u001b[1;33m \u001b[0mtuple1\u001b[0m\u001b[1;33m[\u001b[0m\u001b[1;36m0\u001b[0m\u001b[1;33m]\u001b[0m\u001b[1;33m=\u001b[0m\u001b[1;36m2\u001b[0m\u001b[1;33m\u001b[0m\u001b[1;33m\u001b[0m\u001b[0m\n\u001b[0m",
      "\u001b[1;31mTypeError\u001b[0m: 'tuple' object does not support item assignment"
     ]
    }
   ],
   "source": [
    "tuple1[0]=2"
   ]
  },
  {
   "cell_type": "code",
   "execution_count": 15,
   "metadata": {},
   "outputs": [
    {
     "ename": "AttributeError",
     "evalue": "'tuple' object has no attribute 'append'",
     "output_type": "error",
     "traceback": [
      "\u001b[1;31m---------------------------------------------------------------------------\u001b[0m",
      "\u001b[1;31mAttributeError\u001b[0m                            Traceback (most recent call last)",
      "\u001b[1;32m<ipython-input-15-46e3866e32ee>\u001b[0m in \u001b[0;36m<module>\u001b[1;34m\u001b[0m\n\u001b[1;32m----> 1\u001b[1;33m \u001b[0mtuple1\u001b[0m\u001b[1;33m.\u001b[0m\u001b[0mappend\u001b[0m\u001b[1;33m(\u001b[0m\u001b[1;36m2\u001b[0m\u001b[1;33m)\u001b[0m\u001b[1;33m\u001b[0m\u001b[1;33m\u001b[0m\u001b[0m\n\u001b[0m",
      "\u001b[1;31mAttributeError\u001b[0m: 'tuple' object has no attribute 'append'"
     ]
    }
   ],
   "source": [
    "tuple1.append(2)"
   ]
  },
  {
   "cell_type": "code",
   "execution_count": 16,
   "metadata": {},
   "outputs": [],
   "source": [
    "x=(1,2,[1,2])"
   ]
  },
  {
   "cell_type": "code",
   "execution_count": 18,
   "metadata": {},
   "outputs": [],
   "source": [
    "x[2][0]=2"
   ]
  },
  {
   "cell_type": "code",
   "execution_count": 19,
   "metadata": {},
   "outputs": [
    {
     "data": {
      "text/plain": [
       "(1, 2, [2, 2])"
      ]
     },
     "execution_count": 19,
     "metadata": {},
     "output_type": "execute_result"
    }
   ],
   "source": [
    "x"
   ]
  },
  {
   "cell_type": "code",
   "execution_count": null,
   "metadata": {},
   "outputs": [],
   "source": [
    "#Funciones secuenciales"
   ]
  },
  {
   "cell_type": "code",
   "execution_count": 20,
   "metadata": {},
   "outputs": [
    {
     "data": {
      "text/plain": [
       "5"
      ]
     },
     "execution_count": 20,
     "metadata": {},
     "output_type": "execute_result"
    }
   ],
   "source": [
    "len(tuple1)"
   ]
  },
  {
   "cell_type": "code",
   "execution_count": 21,
   "metadata": {},
   "outputs": [
    {
     "data": {
      "text/plain": [
       "1"
      ]
     },
     "execution_count": 21,
     "metadata": {},
     "output_type": "execute_result"
    }
   ],
   "source": [
    "tuple1.count(1)  # \"secuenciales\""
   ]
  },
  {
   "cell_type": "markdown",
   "metadata": {},
   "source": [
    "### <font color='red'>Estructuras de datos: Diccionarios</font>"
   ]
  },
  {
   "cell_type": "code",
   "execution_count": 37,
   "metadata": {},
   "outputs": [
    {
     "data": {
      "text/plain": [
       "{'Nombre': 'Fernando', 'Curso': 'python científico', 'valoracion': 10}"
      ]
     },
     "execution_count": 37,
     "metadata": {},
     "output_type": "execute_result"
    }
   ],
   "source": [
    "## En python un diccionario es una colección de valores a los cuales se puede acceder a \n",
    "## través de una llave, similar al concepto en bases de datos\n",
    "\n",
    "## Crear un diccionario\n",
    "# [] Lista\n",
    "# {} LLaves siempre debe ser texto  -  ('str')\n",
    "dic= {'Nombre': 'Fernando',  # 'Llave': valor\n",
    "      'Curso': 'python científico',    # 'Llave': valor\n",
    "      'valoracion': 10}     # 'Llave': valor\n",
    "dic"
   ]
  },
  {
   "cell_type": "code",
   "execution_count": 38,
   "metadata": {},
   "outputs": [
    {
     "data": {
      "text/plain": [
       "{'Nombre': 'Fernando',\n",
       " 'Curso': 'python científico',\n",
       " 'valoracion': 10,\n",
       " 'Costo': 0}"
      ]
     },
     "execution_count": 38,
     "metadata": {},
     "output_type": "execute_result"
    }
   ],
   "source": [
    "## Agregar llaves a un diccionario  dicc['Llave_Nueva']= valor\n",
    "dic['Costo']= 0\n",
    "dic"
   ]
  },
  {
   "cell_type": "code",
   "execution_count": 39,
   "metadata": {},
   "outputs": [
    {
     "data": {
      "text/plain": [
       "{'Dolar': '1', 'Peso': '2', 'Euro': '3', 'Yen': '4'}"
      ]
     },
     "execution_count": 39,
     "metadata": {},
     "output_type": "execute_result"
    }
   ],
   "source": [
    "## Generar un diccionario con el comando zip\n",
    "dict(zip([\"Dolar\",\"Peso\",\"Euro\",\"Yen\"], \"1234\"))"
   ]
  },
  {
   "cell_type": "code",
   "execution_count": 40,
   "metadata": {},
   "outputs": [
    {
     "data": {
      "text/plain": [
       "{'Nombre': ['Fernando', 'Luis', 'Karla', 'Maria', 'Iris', 'Eduardo'],\n",
       " 'Curso': ['Python', 'R', 'Java', 'Python', 'R', 'Python'],\n",
       " 'Valoracion': [8, 9, 7, 8, 6, 10]}"
      ]
     },
     "execution_count": 40,
     "metadata": {},
     "output_type": "execute_result"
    }
   ],
   "source": [
    "## Diccionario con listas\n",
    "dic_curso = {'Nombre': [\"Fernando\",\"Luis\",\"Karla\",\"Maria\",\"Iris\",\"Eduardo\"],\n",
    "             'Curso': [\"Python\", \"R\", \"Java\", \"Python\", \"R\", \"Python\"],\n",
    "             'Valoracion': [8,9,7,8,6,10]\n",
    "             }\n",
    "dic_curso"
   ]
  },
  {
   "cell_type": "code",
   "execution_count": 41,
   "metadata": {},
   "outputs": [
    {
     "name": "stdout",
     "output_type": "stream",
     "text": [
      "['Fernando', 'Luis', 'Karla', 'Maria', 'Iris', 'Eduardo']\n",
      "<class 'list'>\n"
     ]
    }
   ],
   "source": [
    "## Acceder a los datos de un diccionario  dicc['Nombre_Llave']\n",
    "print(   dic_curso['Nombre']   )\n",
    "print(   type(  dic_curso['Nombre']  )   )"
   ]
  },
  {
   "cell_type": "code",
   "execution_count": 42,
   "metadata": {},
   "outputs": [
    {
     "data": {
      "text/plain": [
       "['Fernando', 'Luis']"
      ]
     },
     "execution_count": 42,
     "metadata": {},
     "output_type": "execute_result"
    }
   ],
   "source": [
    "dic_curso['Nombre'][:2]  # El objeto \"dic_curso['Nombre']\"  una lista y\n",
    "                         # podemos aplicarle todas las funciones que ya vimos"
   ]
  },
  {
   "cell_type": "code",
   "execution_count": 43,
   "metadata": {},
   "outputs": [
    {
     "name": "stdout",
     "output_type": "stream",
     "text": [
      "True\n",
      "False\n"
     ]
    }
   ],
   "source": [
    "## Buscar llaves en un diccionario: llave in dicc\n",
    "print(  'Nombre' in dic_curso  )\n",
    "print(  'Costo' in dic_curso  )"
   ]
  },
  {
   "cell_type": "code",
   "execution_count": 44,
   "metadata": {},
   "outputs": [
    {
     "name": "stdout",
     "output_type": "stream",
     "text": [
      "['Nombre', 'Curso', 'Valoracion']\n"
     ]
    },
    {
     "data": {
      "text/plain": [
       "dict_values([['Fernando', 'Luis', 'Karla', 'Maria', 'Iris', 'Eduardo'], ['Python', 'R', 'Java', 'Python', 'R', 'Python'], [8, 9, 7, 8, 6, 10]])"
      ]
     },
     "execution_count": 44,
     "metadata": {},
     "output_type": "execute_result"
    }
   ],
   "source": [
    "# La llaves de los diccionarios no se pueden cambiar y tampoco se puede\n",
    "# filtrar elementos por medio de [a:b] como en las listas\n",
    "\n",
    "## Llaves de un diccionario  dicc.keys()\n",
    "print(  list(dic_curso.keys())  )   # LLaves de un diccionario\n",
    "\n",
    "## Llaves de un diccionario  dicc.values()\n",
    "dic_curso.values()   # Valores de un diccionario"
   ]
  },
  {
   "cell_type": "code",
   "execution_count": 45,
   "metadata": {},
   "outputs": [
    {
     "data": {
      "text/plain": [
       "[['Fernando', 'Luis', 'Karla', 'Maria', 'Iris', 'Eduardo'],\n",
       " ['Python', 'R', 'Java', 'Python', 'R', 'Python'],\n",
       " [8, 9, 7, 8, 6, 10]]"
      ]
     },
     "execution_count": 45,
     "metadata": {},
     "output_type": "execute_result"
    }
   ],
   "source": [
    "a= list(dic_curso.values())   ## Covertimos el objeto en lista\n",
    "a"
   ]
  },
  {
   "cell_type": "markdown",
   "metadata": {},
   "source": [
    "### <font color='red'>Conjuntos</font>"
   ]
  },
  {
   "cell_type": "markdown",
   "metadata": {},
   "source": [
    "Un conjunto es una colección no ordenada de objetos únicos. Python provee este tipo de datos de manera nativa al igual que otras estructuras más como las listas, tuplas y diccionarios.\n",
    "\n",
    "Los conjuntos son ampliamente utilizados en lógica y matemática, y desde el lenguaje podemos sacar provecho de sus propiedades para crear código más eficiente y legible en menos tiempo."
   ]
  },
  {
   "cell_type": "code",
   "execution_count": 22,
   "metadata": {},
   "outputs": [],
   "source": [
    "#creación\n",
    "\n",
    "s = {1, 2, 3, 4}   # se especifica entre llaves"
   ]
  },
  {
   "cell_type": "code",
   "execution_count": 25,
   "metadata": {},
   "outputs": [],
   "source": [
    "s = {True, 20, None, True, \"Hola mundo\", (1,2)}  # spuede estar compuesto por varios tipos de elementos"
   ]
  },
  {
   "cell_type": "code",
   "execution_count": 26,
   "metadata": {},
   "outputs": [
    {
     "ename": "TypeError",
     "evalue": "unhashable type: 'list'",
     "output_type": "error",
     "traceback": [
      "\u001b[1;31m---------------------------------------------------------------------------\u001b[0m",
      "\u001b[1;31mTypeError\u001b[0m                                 Traceback (most recent call last)",
      "\u001b[1;32m<ipython-input-26-09963c7b04a2>\u001b[0m in \u001b[0;36m<module>\u001b[1;34m\u001b[0m\n\u001b[0;32m      1\u001b[0m \u001b[1;31m#un conjunto no puede incluir objetos mutables como listas, diccionarios, e incluso otros conjuntos.\u001b[0m\u001b[1;33m\u001b[0m\u001b[1;33m\u001b[0m\u001b[1;33m\u001b[0m\u001b[0m\n\u001b[1;32m----> 2\u001b[1;33m \u001b[0ms\u001b[0m \u001b[1;33m=\u001b[0m \u001b[1;33m{\u001b[0m\u001b[1;32mTrue\u001b[0m\u001b[1;33m,\u001b[0m \u001b[1;36m20\u001b[0m\u001b[1;33m,\u001b[0m \u001b[1;32mNone\u001b[0m\u001b[1;33m,\u001b[0m \u001b[1;32mTrue\u001b[0m\u001b[1;33m,\u001b[0m \u001b[1;34m\"Hola mundo\"\u001b[0m\u001b[1;33m,\u001b[0m \u001b[1;33m[\u001b[0m\u001b[1;36m1\u001b[0m\u001b[1;33m,\u001b[0m\u001b[1;36m2\u001b[0m\u001b[1;33m]\u001b[0m\u001b[1;33m}\u001b[0m\u001b[1;33m\u001b[0m\u001b[1;33m\u001b[0m\u001b[0m\n\u001b[0m",
      "\u001b[1;31mTypeError\u001b[0m: unhashable type: 'list'"
     ]
    }
   ],
   "source": [
    "#un conjunto no puede incluir objetos mutables como listas, diccionarios, e incluso otros conjuntos.\n",
    "s = {True, 20, None, True, \"Hola mundo\", [1,2]}"
   ]
  },
  {
   "cell_type": "code",
   "execution_count": 28,
   "metadata": {},
   "outputs": [
    {
     "data": {
      "text/plain": [
       "dict"
      ]
     },
     "execution_count": 28,
     "metadata": {},
     "output_type": "execute_result"
    }
   ],
   "source": [
    "#python distingue este tipo operación de la creación de un diccionario ya que no incluye dos puntos. \n",
    "#Sin embargo, no puede dirimir el siguiente caso:\n",
    "s={}\n",
    "type(s)"
   ]
  },
  {
   "cell_type": "code",
   "execution_count": 30,
   "metadata": {},
   "outputs": [
    {
     "data": {
      "text/plain": [
       "set"
      ]
     },
     "execution_count": 30,
     "metadata": {},
     "output_type": "execute_result"
    }
   ],
   "source": [
    "#por lo anterior usamos la manera alternativa de crear onjuntos, que es con la funcion set()\n",
    "s=set()\n",
    "type(s)"
   ]
  },
  {
   "cell_type": "code",
   "execution_count": 31,
   "metadata": {},
   "outputs": [
    {
     "data": {
      "text/plain": [
       "{1, 2, 3, 4, 5}"
      ]
     },
     "execution_count": 31,
     "metadata": {},
     "output_type": "execute_result"
    }
   ],
   "source": [
    "#set funciona con cualquier conjunto iterable\n",
    "x=[1,2,3,4,5]\n",
    "y=set(x)\n",
    "y"
   ]
  },
  {
   "cell_type": "markdown",
   "metadata": {},
   "source": [
    "### los conjuntos son objetos mutables"
   ]
  },
  {
   "cell_type": "code",
   "execution_count": 32,
   "metadata": {},
   "outputs": [
    {
     "data": {
      "text/plain": [
       "{1, 3, 4, 5}"
      ]
     },
     "execution_count": 32,
     "metadata": {},
     "output_type": "execute_result"
    }
   ],
   "source": [
    "s = {1, 2, 3, 4}\n",
    "s.add(5)\n",
    "s.discard(2)\n",
    "s"
   ]
  },
  {
   "cell_type": "code",
   "execution_count": 33,
   "metadata": {},
   "outputs": [
    {
     "data": {
      "text/plain": [
       "True"
      ]
     },
     "execution_count": 33,
     "metadata": {},
     "output_type": "execute_result"
    }
   ],
   "source": [
    "#verificar con IN\n",
    "1 in s"
   ]
  },
  {
   "cell_type": "code",
   "execution_count": 34,
   "metadata": {},
   "outputs": [
    {
     "data": {
      "text/plain": [
       "set()"
      ]
     },
     "execution_count": 34,
     "metadata": {},
     "output_type": "execute_result"
    }
   ],
   "source": [
    "#eliminar \n",
    "s.clear()\n",
    "s"
   ]
  },
  {
   "cell_type": "markdown",
   "metadata": {},
   "source": [
    "### operaciones principales"
   ]
  },
  {
   "cell_type": "markdown",
   "metadata": {},
   "source": [
    "#### unión"
   ]
  },
  {
   "cell_type": "markdown",
   "metadata": {},
   "source": [
    "La unión se realiza con el caracter | y retorna un conjunto que contiene los elementos que se encuentran en al menos uno de los dos conjuntos involucrados en la operación.\n",
    "\n"
   ]
  },
  {
   "cell_type": "code",
   "execution_count": null,
   "metadata": {},
   "outputs": [],
   "source": [
    "a = {1, 2, 3, 4}\n",
    "b = {3, 4, 5, 6}"
   ]
  },
  {
   "cell_type": "code",
   "execution_count": 35,
   "metadata": {},
   "outputs": [
    {
     "data": {
      "text/plain": [
       "{1, 2, 3, 4, 5, 6}"
      ]
     },
     "execution_count": 35,
     "metadata": {},
     "output_type": "execute_result"
    }
   ],
   "source": [
    "\n",
    "a | b\n",
    "{1, 2, 3, 4, 5, 6}"
   ]
  },
  {
   "cell_type": "markdown",
   "metadata": {},
   "source": [
    "####  intersección"
   ]
  },
  {
   "cell_type": "markdown",
   "metadata": {},
   "source": [
    "La intersección opera de forma análoga, pero con el operador &, y retorna un nuevo conjunto con los elementos que se encuentran en ambos."
   ]
  },
  {
   "cell_type": "code",
   "execution_count": 36,
   "metadata": {},
   "outputs": [
    {
     "data": {
      "text/plain": [
       "{3, 4}"
      ]
     },
     "execution_count": 36,
     "metadata": {},
     "output_type": "execute_result"
    }
   ],
   "source": [
    "a & b\n"
   ]
  },
  {
   "cell_type": "markdown",
   "metadata": {},
   "source": [
    "####  diferencia"
   ]
  },
  {
   "cell_type": "markdown",
   "metadata": {},
   "source": [
    "La diferencia, por último, retorna un nuevo conjunto que contiene los elementos de a que no están en b"
   ]
  },
  {
   "cell_type": "code",
   "execution_count": 37,
   "metadata": {},
   "outputs": [
    {
     "data": {
      "text/plain": [
       "{1, 4}"
      ]
     },
     "execution_count": 37,
     "metadata": {},
     "output_type": "execute_result"
    }
   ],
   "source": [
    "a = {1, 2, 3, 4}\n",
    "b = {2, 3}\n",
    "a - b\n"
   ]
  },
  {
   "cell_type": "markdown",
   "metadata": {},
   "source": [
    "#### verificar subconjuntos con subset()"
   ]
  },
  {
   "cell_type": "code",
   "execution_count": 38,
   "metadata": {},
   "outputs": [
    {
     "data": {
      "text/plain": [
       "True"
      ]
     },
     "execution_count": 38,
     "metadata": {},
     "output_type": "execute_result"
    }
   ],
   "source": [
    "a = {1, 2, 3, 4}\n",
    "b = {2, 3}\n",
    "b.issubset(a)\n"
   ]
  },
  {
   "cell_type": "code",
   "execution_count": 39,
   "metadata": {},
   "outputs": [
    {
     "data": {
      "text/plain": [
       "'C:\\\\Users\\\\ortca\\\\Analysic_Nabla\\\\Cursos\\\\Introduccion'"
      ]
     },
     "execution_count": 39,
     "metadata": {},
     "output_type": "execute_result"
    }
   ],
   "source": [
    "import os\n",
    "os.getcwd()"
   ]
  },
  {
   "cell_type": "markdown",
   "metadata": {},
   "source": [
    "### Ejercicio"
   ]
  },
  {
   "cell_type": "markdown",
   "metadata": {},
   "source": [
    "Crear 3 conjuntos con los múltiplos de 2,3 y 5 respectivamente que están en el intervalo [1,12] y resuelva los siguientes incisos:"
   ]
  },
  {
   "cell_type": "markdown",
   "metadata": {},
   "source": [
    "<img src=\"\">\n",
    "conj.png"
   ]
  },
  {
   "cell_type": "code",
   "execution_count": 40,
   "metadata": {},
   "outputs": [],
   "source": [
    "M_2={1,2,4,6,8,10,12}\n",
    "M_3={1,3,6,9,12}\n",
    "M_5={1,5,10}\n",
    "\n"
   ]
  },
  {
   "cell_type": "code",
   "execution_count": 41,
   "metadata": {},
   "outputs": [
    {
     "data": {
      "text/plain": [
       "{1}"
      ]
     },
     "execution_count": 41,
     "metadata": {},
     "output_type": "execute_result"
    }
   ],
   "source": [
    "M_2 & M_3 & M_5"
   ]
  },
  {
   "cell_type": "code",
   "execution_count": 42,
   "metadata": {},
   "outputs": [
    {
     "data": {
      "text/plain": [
       "{1, 6, 10, 12}"
      ]
     },
     "execution_count": 42,
     "metadata": {},
     "output_type": "execute_result"
    }
   ],
   "source": [
    "(M_2 & M_3) | (M_2 & M_5) | (M_3 & M_5)"
   ]
  },
  {
   "cell_type": "code",
   "execution_count": 43,
   "metadata": {},
   "outputs": [
    {
     "data": {
      "text/plain": [
       "{2, 3, 4, 5, 8, 9}"
      ]
     },
     "execution_count": 43,
     "metadata": {},
     "output_type": "execute_result"
    }
   ],
   "source": [
    "(M_2 | M_3 | M_5)-((M_2 & M_3)|(M_2 & M_5)|(M_5 & M_3))"
   ]
  },
  {
   "cell_type": "markdown",
   "metadata": {},
   "source": [
    "### <font color='red'> Ciclos y condicionales</font>"
   ]
  },
  {
   "cell_type": "markdown",
   "metadata": {},
   "source": [
    "### <font color='teal'>Condicional IF</font>"
   ]
  },
  {
   "cell_type": "markdown",
   "metadata": {},
   "source": [
    "En python una de las nociones mas importantes es la de ciclos y condicionales, en esta sección anaizaremos las condiciones if, else e elif, las cuales nos ayudarán a añadir bloques de codigoque se activarán únicamente cuando se cumpla cierto criterio, esto nos permite a ordenar mas una secuncia,identificar errores, o tomar valores segun casos diferentes de nuestor flujo de código. La primer sentencia es la condición If la cual al traducirla seria como , si... entonces.... , con esto ponemos un bloque de codigo que se activara cuando se cumpla cierta condición"
   ]
  },
  {
   "cell_type": "code",
   "execution_count": 1,
   "metadata": {},
   "outputs": [
    {
     "name": "stdout",
     "output_type": "stream",
     "text": [
      "El numero 1 es mayor que cero\n"
     ]
    }
   ],
   "source": [
    "# Supongamos que queremos un indicador de si un numero es mayor que cero. para esto podemos apoyarnos de la condicional if\n",
    "# la cual tendría la siguiente estructura\n",
    "a = 1\n",
    "if a > 0:   #sentencia booleana True o False\n",
    "    print(f\"El numero {a} es mayor que cero\" )"
   ]
  },
  {
   "cell_type": "code",
   "execution_count": 2,
   "metadata": {},
   "outputs": [
    {
     "name": "stdout",
     "output_type": "stream",
     "text": [
      "el valor es menor que cero\n"
     ]
    }
   ],
   "source": [
    "#Nota Indexado en python\n",
    "# uno de los temas mas delicados a la hora de programar en python es el indexado, el cual se da con la tecla \n",
    "# \"tab\" , esto es por que, a diferencia de otros programas, python para ordenar los bloques usa indexados en lugar de\n",
    "# llaves o parentesis, esto quiere decir que a partir del indexado podemos saber en que bloque de codigo estamos\n",
    "#para ejemplificar esto pongamos el siguiente ejemplo\n",
    "a = -1   #Definimos valor inicial \n",
    "if a < 0:\n",
    "    print(\"el valor es menor que cero\")  #como podemos ver al escribir los : del if y dar enter automaticamente nos pone en \n",
    "                                         # en el siguiente renglon pero con un indexado extra, esto quiere decir que para que\n",
    "                                         # nuestro codigo este dentro del if, debe estar sobre ese indexado, como vemos al e\n",
    "                                         # al ejecutar el print funciona al estar dentro , pero que pasa si no lo ponemos?"
   ]
  },
  {
   "cell_type": "code",
   "execution_count": 3,
   "metadata": {},
   "outputs": [
    {
     "ename": "IndentationError",
     "evalue": "expected an indented block (<ipython-input-3-7706a0ea6a82>, line 3)",
     "output_type": "error",
     "traceback": [
      "\u001b[1;36m  File \u001b[1;32m\"<ipython-input-3-7706a0ea6a82>\"\u001b[1;36m, line \u001b[1;32m3\u001b[0m\n\u001b[1;33m    print(\"el valor es menor que cero\")      #Justo el codigo print no entra dento del codigo , pues no esta con el indexado del if\u001b[0m\n\u001b[1;37m        ^\u001b[0m\n\u001b[1;31mIndentationError\u001b[0m\u001b[1;31m:\u001b[0m expected an indented block\n"
     ]
    }
   ],
   "source": [
    "a = -1   #Definimos valor inicial \n",
    "if a < 0:\n",
    "print(\"el valor es menor que cero\")      #Justo el codigo print no entra dento del codigo , pues no esta con el indexado del if\n",
    "                                         # een python no es complicado ya que a definir el If y dar enter este te situa en el \n",
    "                                         # indexado automaticamente, si quisieramos anidarlos justo iria con la misma logica"
   ]
  },
  {
   "cell_type": "code",
   "execution_count": 4,
   "metadata": {},
   "outputs": [
    {
     "name": "stdout",
     "output_type": "stream",
     "text": [
      "el numero es cero\n"
     ]
    }
   ],
   "source": [
    "a = 0       \n",
    "if a==0:                            # equivalencia en                    if a==0{      \n",
    "    print(\"el numero es cero\")      # otros programas                    print(\"el numero es cero\") }"
   ]
  },
  {
   "cell_type": "code",
   "execution_count": 5,
   "metadata": {},
   "outputs": [
    {
     "name": "stdout",
     "output_type": "stream",
     "text": [
      "El numero es menor de 10\n",
      "El numero es cero\n",
      "Salimos de los ifs\n"
     ]
    }
   ],
   "source": [
    "# Ejemplo anidado\n",
    "a=0\n",
    "if a < 10:\n",
    "    print(\"El numero es menor de 10\")\n",
    "    if a == 0:\n",
    "        print(\"El numero es cero\")\n",
    "print(\"Salimos de los ifs\")"
   ]
  },
  {
   "cell_type": "code",
   "execution_count": 6,
   "metadata": {},
   "outputs": [
    {
     "name": "stdout",
     "output_type": "stream",
     "text": [
      "El numero es menor de 10\n",
      "El numero es cero\n"
     ]
    }
   ],
   "source": [
    "# Realmente el comando if es muy sencillo, pero se puede complicar tanto como el programa lo necesite, que pasaría\n",
    "#Si necesitaramos multiples condiciones? una forma seria anidando como en el ejemplo anterior, pero siempre el proposito de la \n",
    "# progracion es hacer el código mas compacto e integro, para reaizar esto utilizamos condicionales multiples dentro\n",
    "# de nuestro if los cuales nos ayudaran a comrpimir el codigo\n",
    "# Tomando el ejemplo anterior\n",
    "a=0\n",
    "if (a<10) and (a==0):\n",
    "    print(\"El numero es menor de 10\\nEl numero es cero\")"
   ]
  },
  {
   "cell_type": "code",
   "execution_count": 7,
   "metadata": {},
   "outputs": [
    {
     "name": "stdout",
     "output_type": "stream",
     "text": [
      "Todas las variables son mayores a 0\n",
      "alguna variable es mayores a 0\n"
     ]
    }
   ],
   "source": [
    "#Como podemos ver dentro del primer if juntamos la condicion a<10 y a=0 , como era de suponerse, al ser condiciones booleanas\n",
    "#podemos utilizar todas las operaciones dentro del if que las operaciones booleanas nos permitan, es decir el and y el or\n",
    "# la sintaxis basica seria la siguiente\n",
    "#  if (cond_1) and/or (cond_2) and/or (con_3) and ..... and (cond_n):\n",
    "#     codigo\n",
    "var1= 5\n",
    "var2= 3\n",
    "var3= 10\n",
    "\n",
    "if (var1>0) and (var2>0) and (var3>0):\n",
    "    print(\"Todas las variables son mayores a 0\")\n",
    "\n",
    "if (var1>0) or (var2>0) or (var3>0):\n",
    "    print(\"alguna variable es mayores a 0\")"
   ]
  },
  {
   "cell_type": "markdown",
   "metadata": {},
   "source": [
    "## <font color='teal'>Condicional ELSE</font>"
   ]
  },
  {
   "cell_type": "markdown",
   "metadata": {},
   "source": [
    "El condicional Else es el complemento directo del condicional if, este nos denota que hacer en caso de que no se cumpla la condicion del if, es decir , si la condicion booleana es false , iría al bloque del else (complemento de la primera condicion)\n",
    "Siempre va despues de un if y la sentencia es la siguiente"
   ]
  },
  {
   "cell_type": "code",
   "execution_count": 8,
   "metadata": {},
   "outputs": [
    {
     "name": "stdout",
     "output_type": "stream",
     "text": [
      "El valor es mayor a 0\n"
     ]
    }
   ],
   "source": [
    "a=10\n",
    "if a < 0:     # sentencia booleana \n",
    "    print(\"El valor es menor a 0\")   #bloque con un indexdo dentro del if\n",
    "else:                                # el comando else debe estar en el indexado de su complemento if\n",
    "    print(\"El valor es mayor a 0\")   # su codigo de ejecucion estara como en el comando If ahora dentro del codigo indexado del \n",
    "                                     #else"
   ]
  },
  {
   "cell_type": "code",
   "execution_count": 9,
   "metadata": {},
   "outputs": [
    {
     "name": "stdout",
     "output_type": "stream",
     "text": [
      "Todas las variables son mayores a 0\n",
      "Todas son mayores a 0\n"
     ]
    }
   ],
   "source": [
    "# Ahora podemos hacer condiciones mas precisas usando e if y el else en conjunto asi como las multiples condiciones\n",
    "var1= 3\n",
    "var2= 1\n",
    "var3= 10\n",
    "\n",
    "\n",
    "if (var1>0) and (var2>0) and (var3>0):\n",
    "    print(\"Todas las variables son mayores a 0\")\n",
    "else:\n",
    "    print(\"Alguna de las variables es menor a 0\")\n",
    "    \n",
    "if (var1<2) or (var2<0) or (var3<0):\n",
    "    print(\"Alguna de las variables es menor a 0\")\n",
    "else:\n",
    "    print(\"Todas son mayores a 0\")"
   ]
  },
  {
   "cell_type": "markdown",
   "metadata": {},
   "source": [
    "## <font color='teal'>Condicional ELIF</font>"
   ]
  },
  {
   "cell_type": "markdown",
   "metadata": {},
   "source": [
    "El condicional ELIF es un complemento tambien del IF, es muy similar al else, solo que aqui si podemos especificar nuevamente otra condicion, por lo cual serría como tener multiples ifs (No solo engloba el complemento como el else si no que es mas especifico el bloque) la estructura es la siguiente"
   ]
  },
  {
   "cell_type": "code",
   "execution_count": 10,
   "metadata": {},
   "outputs": [
    {
     "name": "stdout",
     "output_type": "stream",
     "text": [
      "no existe esa persona\n"
     ]
    }
   ],
   "source": [
    "a = \"Pepe\"\n",
    "if a == \"Luis\":   \n",
    "    print(\"de cariños Luigi\")  \n",
    "elif a==\"Alejandro\":  \n",
    "    print(\"de cariño Ale\")\n",
    "elif a== \"Fernando\":\n",
    "    print(\"de cariño Fer\")\n",
    "else:\n",
    "    print(\"no existe esa persona\")"
   ]
  },
  {
   "cell_type": "code",
   "execution_count": 11,
   "metadata": {},
   "outputs": [],
   "source": [
    "#Como podemos ver basicamente el elif es un if dentro del if , normalmente se usa para realizar casos de algun flujo\n",
    "# ademas de darle orden a una sola estructura sin necesidad de plantear multiples if, esto da coherencia al codigo y una mejor\n",
    "#integridad\n"
   ]
  },
  {
   "cell_type": "code",
   "execution_count": 12,
   "metadata": {},
   "outputs": [
    {
     "name": "stdout",
     "output_type": "stream",
     "text": [
      "Que puesto tienes?Jr\n",
      "Cual es tu salario?10000\n",
      "Su sueldo neto es 9000\n"
     ]
    }
   ],
   "source": [
    "#Veamos un ejemplo mas detallado\n",
    "a=input(\"Que puesto tienes?\")  #Senior , Jr , director\n",
    "b=input(\"Cual es tu salario?\")\n",
    "\n",
    "if (a ==\"Senior\"):     #se pueden usar parentesis para agrupar cuando se tengan multiples condiciones\n",
    "    c=int(b)-(int(b)*.16)\n",
    "elif a==\"Jr\":\n",
    "    c=int(b)-1000\n",
    "elif a==\"director\":\n",
    "    c=int(b)\n",
    "else:\n",
    "    print(\"No existe puesto\")\n",
    "\n",
    "print(f\"Su sueldo neto es {c}\")\n",
    "    \n"
   ]
  },
  {
   "cell_type": "markdown",
   "metadata": {},
   "source": [
    "## <font color='teal'>Ciclo FOR</font>"
   ]
  },
  {
   "cell_type": "markdown",
   "metadata": {},
   "source": [
    "Un lenguaje de programación tiene por objetivo la automatización asi como la optomización de procesos, para ello, debemos ser capaces de realizar flujos los cuales puedan realizar multiples tareas en lugar de una, para esto se crearon los ciclos, los cuales nos permiten realizar un bloque de instrucciones repetidamente, variando as condiciones o no en cada bucle, normalmente cada repeticion se llama iteración y en python podemos realizarlo principalmente con dos comandos, el ciclo for y el while. En esta seccion analizaremos el ciclo For y como este se compone.\n",
    "\n",
    "El ciclo For es un ciclo el cual se compone de dos cosas , el iterador y el cuerpo, el iterador es un objeto el cual tiene como caracteristica un orden iterable, es decir, se puede recorrer uno a uno sus elementos. El cuerpo es el bucle que se repetira por cada elemento de nuestro iterador. En python un objeto iterador normalmente es una lista, un range o una cadena.\n"
   ]
  },
  {
   "cell_type": "code",
   "execution_count": 13,
   "metadata": {},
   "outputs": [
    {
     "name": "stdout",
     "output_type": "stream",
     "text": [
      "iteracion 1\n",
      "iteracion 2\n",
      "iteracion 3\n",
      "iteracion 4\n",
      "iteracion 5\n",
      "iteracion 6\n",
      "iteracion 7\n",
      "iteracion 8\n"
     ]
    }
   ],
   "source": [
    "#Sintaxis\n",
    "for i in [1,2,3,4,5,6,7,8]:\n",
    "    print(f\"iteracion {i}\")"
   ]
  },
  {
   "cell_type": "code",
   "execution_count": 14,
   "metadata": {},
   "outputs": [
    {
     "name": "stdout",
     "output_type": "stream",
     "text": [
      "Hola Luis\n",
      "Hola Juan\n",
      "Hola Pedro\n"
     ]
    }
   ],
   "source": [
    "#Como podemos ver la sintaxis en las estructuras de control es la misma,en este caso el recorrido de iteraciones, dos puntos\n",
    "# que indican que inicia el cuerpo , y el indexado que indica que va dentro del cuerpo del ciclo\n",
    "for a in [\"Luis\",\"Juan\",\"Pedro\"]:   #Traducido sería     para los objetos dentro de la lista\n",
    "    print(f\"Hola {a}\")                                   # imprime Hola + Objeto"
   ]
  },
  {
   "cell_type": "code",
   "execution_count": 15,
   "metadata": {},
   "outputs": [
    {
     "name": "stdout",
     "output_type": "stream",
     "text": [
      "range(0, 10)\n",
      "range(10, 20)\n"
     ]
    }
   ],
   "source": [
    "#La iteracion puede ser con un objeto Range el cual nos da un intervalo del 0 al valor especificado si solo ponemos un argumento\n",
    "#o de la posicion i a la j si ponemos ambos\n",
    "#Sintaxis   range(10)-----(0,10)     range(10,15)-----(10,150)\n",
    "print(range(10))\n",
    "print(range(10,20))"
   ]
  },
  {
   "cell_type": "code",
   "execution_count": 16,
   "metadata": {},
   "outputs": [
    {
     "name": "stdout",
     "output_type": "stream",
     "text": [
      "objeto 0\n",
      "objeto 1\n",
      "objeto 2\n",
      "objeto 3\n",
      "objeto 4\n",
      "objeto 5\n",
      "objeto 6\n",
      "objeto 7\n",
      "objeto 8\n",
      "objeto 9\n"
     ]
    }
   ],
   "source": [
    "for j in range(10):\n",
    "    print(f\"objeto {j}\")"
   ]
  },
  {
   "cell_type": "code",
   "execution_count": 17,
   "metadata": {},
   "outputs": [
    {
     "name": "stdout",
     "output_type": "stream",
     "text": [
      "H\n",
      "o\n",
      "l\n",
      "a\n"
     ]
    }
   ],
   "source": [
    "for i in \"Hola\":\n",
    "    print(i)"
   ]
  },
  {
   "cell_type": "code",
   "execution_count": 18,
   "metadata": {},
   "outputs": [
    {
     "name": "stdout",
     "output_type": "stream",
     "text": [
      "activador\n",
      "activador\n",
      "activador\n",
      "activador\n"
     ]
    }
   ],
   "source": [
    "#Como podemos ver los iteradores nos sirven o para solo iterar n veces o para usar esos valores en nuestro ciclo\n",
    "for i in [1,2,3,4,5,6,7,8]:\n",
    "    if i<5:\n",
    "        print(\"activador\")"
   ]
  },
  {
   "cell_type": "code",
   "execution_count": 19,
   "metadata": {},
   "outputs": [
    {
     "name": "stdout",
     "output_type": "stream",
     "text": [
      "esto se debe imprimir 4 veces\n",
      "esto se debe imprimir 4 veces\n",
      "esto se debe imprimir 4 veces\n",
      "esto se debe imprimir 4 veces\n"
     ]
    }
   ],
   "source": [
    "for i in \"Hola\":\n",
    "    print(\"esto se debe imprimir 4 veces\")"
   ]
  },
  {
   "cell_type": "markdown",
   "metadata": {},
   "source": [
    "## <font color='teal'>Ciclo WHILE</font>"
   ]
  },
  {
   "cell_type": "markdown",
   "metadata": {},
   "source": [
    "El ciclo while es el segundo método que usaremos para generar un bucle o ciclo solo que este es un poco mas delicado que el ciclo for ya que aqui no se indica explicitamente cuantas veces se realizara el bucle , si no que se ejecutara indefinidamente hasta que cierta condicion se cumpla. Un ejemplo es empezar con una variable con el valor 0, y queremos que en cada iteracion se le sume uno, si usaramos el ciclo For simplemente lo haríamos de la siguiente manera"
   ]
  },
  {
   "cell_type": "code",
   "execution_count": 21,
   "metadata": {},
   "outputs": [
    {
     "name": "stdout",
     "output_type": "stream",
     "text": [
      "1\n",
      "2\n",
      "3\n",
      "4\n",
      "5\n"
     ]
    }
   ],
   "source": [
    "a = 0\n",
    "for i in range(5):\n",
    "    a+=1\n",
    "    print(a)"
   ]
  },
  {
   "cell_type": "code",
   "execution_count": null,
   "metadata": {},
   "outputs": [],
   "source": [
    "#caer en un bucle infinito seria algo del estilo\n",
    "a=0\n",
    "while a < 10:\n",
    "    print(a)\n",
    "    a-=1"
   ]
  },
  {
   "cell_type": "code",
   "execution_count": null,
   "metadata": {},
   "outputs": [],
   "source": [
    "#La sentencia break nos sirve para romper un ciclo si se cumple cierta condicion\n",
    "a=0\n",
    "while a<10:\n",
    "    print(a)\n",
    "    a+=1\n",
    "    if a==5:\n",
    "        break"
   ]
  },
  {
   "cell_type": "code",
   "execution_count": null,
   "metadata": {},
   "outputs": [],
   "source": [
    "#bucle while controlado por conteo\n",
    "# A continuación, se presenta un ejemplo del uso del bucle while controlado por conteo:\n",
    "\n",
    "numero = int(input(\"Ingrese un numero  \"))\n",
    "\n",
    "contador=1\n",
    "suma=0\n",
    "while contador <= numero:\n",
    "    suma+=contador\n",
    "    contador+=1\n",
    "print (\"La suma es \" + str(suma))"
   ]
  },
  {
   "cell_type": "markdown",
   "metadata": {},
   "source": [
    "En este ejemplo se tiene un contador con un valor inicial de uno, cada iteración del while modifica esta variable de manera que incremente su valor en 1, por lo que después de su primera iteración el contador tendrá un valor de 2, luego 3, y así sucesivamente.\n",
    "\n",
    "Eventualmente cuando el contador llegue a tener un valor de 20, la condición del ciclo numero <= 20 sera False, por lo que el ciclo terminará arrojando nuestra suma"
   ]
  },
  {
   "cell_type": "code",
   "execution_count": 22,
   "metadata": {},
   "outputs": [
    {
     "name": "stdout",
     "output_type": "stream",
     "text": [
      "Introduzca el numero para obtener su cuadrado (-1 para salir): \n",
      "-1\n",
      "Fin del programa\n"
     ]
    }
   ],
   "source": [
    "#bucle while controlado por evento\n",
    "# A continuación, se presenta un ejemplo del uso del bucle while controlado por evento\n",
    "\n",
    "print (\"Introduzca el numero para obtener su cuadrado (-1 para salir): \")\n",
    "numero = int(input())\n",
    "while numero != -1:\n",
    "    resultado = numero**2\n",
    "    print(f\"el resultado del cuadrado es {resultado}\")\n",
    "    print(\"#####################################################################\")\n",
    "    numero = int(input(\"Introduzca el numero para obtener su cuadrado (-1 para salir): \"))\n",
    "\n",
    "\n",
    "print (\"Fin del programa\")"
   ]
  },
  {
   "cell_type": "markdown",
   "metadata": {},
   "source": [
    "En este caso el evento que se dispara cuando el usuario ingresa el valor -1, causando que el bucle while se interrumpo o no se inicie.\n",
    "\n",
    "sentencia break\n",
    "\n",
    "Existe una forma alternativa de interrumpir o cortar los ciclos utilizando la palabra reservada break.\n",
    "\n",
    "Esta nos permite salir del ciclo incluso si la expresión evaluada en while (o en otro ciclo como for) permanece siendo True."
   ]
  },
  {
   "cell_type": "code",
   "execution_count": null,
   "metadata": {},
   "outputs": [],
   "source": [
    "variable =100\n",
    "while variable > 0:\n",
    "    print (\"Actual valor de variable:\", variable)\n",
    "    variable = variable -1\n",
    "    if variable == 80:\n",
    "        break\n"
   ]
  },
  {
   "cell_type": "markdown",
   "metadata": {},
   "source": [
    "Sentencia continue\n",
    "La sentencia continue hace que pase de nuevo al principio del bucle aunque no se haya terminado de ejecutar el ciclo anterior. Es de utilidad cuando se llega a combinar con el uso de errores"
   ]
  },
  {
   "cell_type": "code",
   "execution_count": 23,
   "metadata": {},
   "outputs": [
    {
     "name": "stdout",
     "output_type": "stream",
     "text": [
      "Actual valor de variable: 9\n",
      "Actual valor de variable: 8\n",
      "Actual valor de variable: 7\n",
      "Actual valor de variable: 6\n",
      "se ejecuto un error en linea 5\n",
      "Actual valor de variable: 4\n",
      "Actual valor de variable: 3\n",
      "Actual valor de variable: 2\n",
      "Actual valor de variable: 1\n",
      "Actual valor de variable: 0\n"
     ]
    }
   ],
   "source": [
    "variable =10\n",
    "while variable > 0:\n",
    "    variable = variable -1\n",
    "    if variable == 5:\n",
    "        print(\"se ejecuto un error en linea 5\")\n",
    "        continue\n",
    "    print (\"Actual valor de variable:\", variable)"
   ]
  },
  {
   "cell_type": "code",
   "execution_count": null,
   "metadata": {},
   "outputs": [],
   "source": [
    "#tener cuidado con el caso continue y sus saltos al inicio del bucle\n",
    "variable =10\n",
    "while variable > 0:     \n",
    "    if variable == 5:\n",
    "        print(\"se ejecuto un error en linea 5\")\n",
    "        continue\n",
    "    print (\"Actual valor de variable:\", variable)\n",
    "    variable = variable -1\n"
   ]
  },
  {
   "cell_type": "markdown",
   "metadata": {},
   "source": [
    "Ejercicio: realiza un programa que le pida al usuario un numero, e imprima ese numero de elementos de la sucesion de fibonaci la cual tiene la siguiente estructura\n",
    "1 2 3 5 8 13 21\n",
    "\n",
    "Fn = Fn-2+Fn-1 | n >=2"
   ]
  },
  {
   "cell_type": "code",
   "execution_count": 24,
   "metadata": {
    "collapsed": true
   },
   "outputs": [
    {
     "name": "stdout",
     "output_type": "stream",
     "text": [
      "cuantos digitos de la sucesion quieres? 100\n",
      "1\n",
      "2\n",
      "3\n",
      "5\n",
      "8\n",
      "13\n",
      "21\n",
      "34\n",
      "55\n",
      "89\n",
      "144\n",
      "233\n",
      "377\n",
      "610\n",
      "987\n",
      "1597\n",
      "2584\n",
      "4181\n",
      "6765\n",
      "10946\n",
      "17711\n",
      "28657\n",
      "46368\n",
      "75025\n",
      "121393\n",
      "196418\n",
      "317811\n",
      "514229\n",
      "832040\n",
      "1346269\n",
      "2178309\n",
      "3524578\n",
      "5702887\n",
      "9227465\n",
      "14930352\n",
      "24157817\n",
      "39088169\n",
      "63245986\n",
      "102334155\n",
      "165580141\n",
      "267914296\n",
      "433494437\n",
      "701408733\n",
      "1134903170\n",
      "1836311903\n",
      "2971215073\n",
      "4807526976\n",
      "7778742049\n",
      "12586269025\n",
      "20365011074\n",
      "32951280099\n",
      "53316291173\n",
      "86267571272\n",
      "139583862445\n",
      "225851433717\n",
      "365435296162\n",
      "591286729879\n",
      "956722026041\n",
      "1548008755920\n",
      "2504730781961\n",
      "4052739537881\n",
      "6557470319842\n",
      "10610209857723\n",
      "17167680177565\n",
      "27777890035288\n",
      "44945570212853\n",
      "72723460248141\n",
      "117669030460994\n",
      "190392490709135\n",
      "308061521170129\n",
      "498454011879264\n",
      "806515533049393\n",
      "1304969544928657\n",
      "2111485077978050\n",
      "3416454622906707\n",
      "5527939700884757\n",
      "8944394323791464\n",
      "14472334024676221\n",
      "23416728348467685\n",
      "37889062373143906\n",
      "61305790721611591\n",
      "99194853094755497\n",
      "160500643816367088\n",
      "259695496911122585\n",
      "420196140727489673\n",
      "679891637638612258\n",
      "1100087778366101931\n",
      "1779979416004714189\n",
      "2880067194370816120\n",
      "4660046610375530309\n",
      "7540113804746346429\n",
      "12200160415121876738\n",
      "19740274219868223167\n",
      "31940434634990099905\n",
      "51680708854858323072\n",
      "83621143489848422977\n",
      "135301852344706746049\n",
      "218922995834555169026\n",
      "354224848179261915075\n",
      "573147844013817084101\n"
     ]
    }
   ],
   "source": [
    "\n",
    "final=int(input(\"cuantos digitos de la sucesion quieres? \"))\n",
    "n=0\n",
    "valor1=1\n",
    "valor0=0\n",
    "while n < final:\n",
    "    aux=valor1\n",
    "    valor1=valor1+valor0\n",
    "    valor0=aux\n",
    "    n+=1\n",
    "    print(valor1)"
   ]
  },
  {
   "cell_type": "markdown",
   "metadata": {},
   "source": [
    "## <font color='teal'>List comprenhension</font>"
   ]
  },
  {
   "cell_type": "markdown",
   "metadata": {},
   "source": [
    "<font color='teal'>Ahora que tenemos mas entendimiento del entorno podemos adentrarnos a las list comprenhension que básicamente es la manera mas elegante y formal de crear listas en python </font>"
   ]
  },
  {
   "cell_type": "code",
   "execution_count": 25,
   "metadata": {},
   "outputs": [
    {
     "name": "stdout",
     "output_type": "stream",
     "text": [
      "[2, 4, 6, 8, 10]\n"
     ]
    }
   ],
   "source": [
    "#Supongamos que tenemos la siguiente lista\n",
    "a = [1,2,3,4,5,6,7,8,9,10]\n",
    "# y queremos crear una que unicamente tenga los numeros pares\n",
    "b=[]\n",
    "for i in a:\n",
    "    if i%2==0:\n",
    "        b.append(i)\n",
    "print(b)\n"
   ]
  },
  {
   "cell_type": "code",
   "execution_count": 26,
   "metadata": {},
   "outputs": [
    {
     "name": "stdout",
     "output_type": "stream",
     "text": [
      "[2, 4, 6, 8, 10]\n"
     ]
    }
   ],
   "source": [
    "#Como podemos ver el codigo ocupa varias lineas para una accion que en python podemos impementar facilmente de la siguiente\n",
    "#manera\n",
    "c=[i for i in a if i%2==0]\n",
    "print(c)"
   ]
  },
  {
   "cell_type": "code",
   "execution_count": 27,
   "metadata": {},
   "outputs": [],
   "source": [
    "#Esta es una de las maneras mas elegantes de creacion de codigo y optimizacion del mismo\n",
    "# la sintaxis es la siguiente\n",
    "# [] Definir una lista\n",
    "#[expresion for indicador de expresion in objeto iterable if condicion]  \n",
    "#[i for i in a if i.cond] #Condicion para agregar\n"
   ]
  },
  {
   "cell_type": "code",
   "execution_count": 28,
   "metadata": {},
   "outputs": [
    {
     "name": "stdout",
     "output_type": "stream",
     "text": [
      "[1, 2, 3, 6]\n"
     ]
    }
   ],
   "source": [
    "# Ejemplo\n",
    "x = [1,2,3,4,5,6]\n",
    "y = [1,2,3,9,7,6]\n",
    "z=[]\n",
    "for i in x:\n",
    "    for j in y:\n",
    "        if i==j:\n",
    "            z.append(i)\n",
    "print(z)\n"
   ]
  },
  {
   "cell_type": "code",
   "execution_count": 29,
   "metadata": {},
   "outputs": [
    {
     "name": "stdout",
     "output_type": "stream",
     "text": [
      "[1, 2, 3, 6]\n"
     ]
    }
   ],
   "source": [
    "#con list comp\n",
    "z = [i for i in x for j in y if i==j]\n",
    "print(z)"
   ]
  },
  {
   "cell_type": "code",
   "execution_count": 30,
   "metadata": {},
   "outputs": [
    {
     "name": "stdout",
     "output_type": "stream",
     "text": [
      "[[0, 2], [1, 3], [2, 4], [3, 5], [4, 6]]\n"
     ]
    }
   ],
   "source": [
    "#Otro ejemplo tomando como insumos listas, supongamos que tenemos el punto medio de una serie de intervalos de tamaño 2\n",
    "#Como generariamos esos intervalos\n",
    "a = [1,2,3,4,5]\n",
    "inter = [[i-1,i+1] for i in a]\n",
    "print(inter)"
   ]
  },
  {
   "cell_type": "code",
   "execution_count": 31,
   "metadata": {},
   "outputs": [
    {
     "name": "stdout",
     "output_type": "stream",
     "text": [
      "['fernando', 'alejandro', 'mariana', 'nancy']\n"
     ]
    }
   ],
   "source": [
    "#Un ultimo ejemplo de para que nos serviria seria para aplicar algun métpdp general a una lista\n",
    "# Se requiere poner la primera letra en mayusculas de los siguientes nombres\n",
    "nombres=[\"fernando\",\"alejandro\",\"mariana\",\"nancy\"]\n",
    "print(nombres)\n",
    "nombres2=[i.capitalize() for i in nombres]\n",
    "# print(nombres2)"
   ]
  }
 ],
 "metadata": {
  "kernelspec": {
   "display_name": "Python 3",
   "language": "python",
   "name": "python3"
  },
  "language_info": {
   "codemirror_mode": {
    "name": "ipython",
    "version": 3
   },
   "file_extension": ".py",
   "mimetype": "text/x-python",
   "name": "python",
   "nbconvert_exporter": "python",
   "pygments_lexer": "ipython3",
   "version": "3.7.4"
  }
 },
 "nbformat": 4,
 "nbformat_minor": 2
}
